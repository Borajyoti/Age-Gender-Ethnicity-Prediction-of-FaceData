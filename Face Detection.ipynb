{
 "cells": [
  {
   "cell_type": "code",
   "execution_count": 1,
   "id": "4de86195",
   "metadata": {},
   "outputs": [
    {
     "name": "stdout",
     "output_type": "stream",
     "text": [
      "Using TensorFlow backend\n"
     ]
    }
   ],
   "source": [
    "import numpy as np\n",
    "import pandas as pd\n",
    "import matplotlib.pyplot as plt\n",
    "%matplotlib inline\n",
    "import seaborn as sns\n",
    "import tensorflow as tf\n",
    "from tensorflow import keras\n",
    "from tensorflow.keras import datasets, layers, models\n",
    "from tensorflow.keras.callbacks import Callback\n",
    "from tensorflow.keras.layers import Dense, Dropout, Flatten, Conv2D, MaxPool2D, BatchNormalization, InputLayer\n",
    "from tensorflow.keras.optimizers import RMSprop,Adam\n",
    "from tensorflow.keras.preprocessing.image import ImageDataGenerator\n",
    "from tensorflow.keras.callbacks import ReduceLROnPlateau, EarlyStopping\n",
    "from tensorflow.keras.losses import BinaryCrossentropy, SparseCategoricalCrossentropy\n",
    "from keras.preprocessing.image import ImageDataGenerator\n",
    "from keras.utils import to_categorical\n",
    "import keras_tuner as kt"
   ]
  },
  {
   "cell_type": "code",
   "execution_count": 2,
   "id": "e491f1d8",
   "metadata": {},
   "outputs": [
    {
     "name": "stdout",
     "output_type": "stream",
     "text": [
      "Please provide your Kaggle credentials to download this dataset. Learn more: http://bit.ly/kaggle-creds\n",
      "Your Kaggle username: borajyoti\n",
      "Your Kaggle Key: ········\n",
      "Downloading age-gender-and-ethnicity-face-data-csv.zip to .\\age-gender-and-ethnicity-face-data-csv\n"
     ]
    },
    {
     "name": "stderr",
     "output_type": "stream",
     "text": [
      "100%|██████████| 63.2M/63.2M [00:07<00:00, 8.46MB/s]\n"
     ]
    },
    {
     "name": "stdout",
     "output_type": "stream",
     "text": [
      "\n"
     ]
    }
   ],
   "source": [
    "import opendatasets as od\n",
    "import pandas\n",
    "\n",
    "file=od.download('https://www.kaggle.com/datasets/nipunarora8/age-gender-and-ethnicity-face-data-csv')\n"
   ]
  },
  {
   "cell_type": "code",
   "execution_count": 3,
   "id": "a1fa91db",
   "metadata": {},
   "outputs": [],
   "source": [
    "csv_file_path = 'age-gender-and-ethnicity-face-data-csv/age_gender.csv'\n",
    "\n",
    "df = pd.read_csv(csv_file_path)"
   ]
  },
  {
   "cell_type": "code",
   "execution_count": 4,
   "id": "821cc1b4",
   "metadata": {},
   "outputs": [
    {
     "data": {
      "text/html": [
       "<div>\n",
       "<style scoped>\n",
       "    .dataframe tbody tr th:only-of-type {\n",
       "        vertical-align: middle;\n",
       "    }\n",
       "\n",
       "    .dataframe tbody tr th {\n",
       "        vertical-align: top;\n",
       "    }\n",
       "\n",
       "    .dataframe thead th {\n",
       "        text-align: right;\n",
       "    }\n",
       "</style>\n",
       "<table border=\"1\" class=\"dataframe\">\n",
       "  <thead>\n",
       "    <tr style=\"text-align: right;\">\n",
       "      <th></th>\n",
       "      <th>age</th>\n",
       "      <th>ethnicity</th>\n",
       "      <th>gender</th>\n",
       "      <th>img_name</th>\n",
       "      <th>pixels</th>\n",
       "    </tr>\n",
       "  </thead>\n",
       "  <tbody>\n",
       "    <tr>\n",
       "      <th>0</th>\n",
       "      <td>1</td>\n",
       "      <td>2</td>\n",
       "      <td>0</td>\n",
       "      <td>20161219203650636.jpg.chip.jpg</td>\n",
       "      <td>129 128 128 126 127 130 133 135 139 142 145 14...</td>\n",
       "    </tr>\n",
       "    <tr>\n",
       "      <th>1</th>\n",
       "      <td>1</td>\n",
       "      <td>2</td>\n",
       "      <td>0</td>\n",
       "      <td>20161219222752047.jpg.chip.jpg</td>\n",
       "      <td>164 74 111 168 169 171 175 182 184 188 193 199...</td>\n",
       "    </tr>\n",
       "    <tr>\n",
       "      <th>2</th>\n",
       "      <td>1</td>\n",
       "      <td>2</td>\n",
       "      <td>0</td>\n",
       "      <td>20161219222832191.jpg.chip.jpg</td>\n",
       "      <td>67 70 71 70 69 67 70 79 90 103 116 132 145 155...</td>\n",
       "    </tr>\n",
       "    <tr>\n",
       "      <th>3</th>\n",
       "      <td>1</td>\n",
       "      <td>2</td>\n",
       "      <td>0</td>\n",
       "      <td>20161220144911423.jpg.chip.jpg</td>\n",
       "      <td>193 197 198 200 199 200 202 203 204 205 208 21...</td>\n",
       "    </tr>\n",
       "    <tr>\n",
       "      <th>4</th>\n",
       "      <td>1</td>\n",
       "      <td>2</td>\n",
       "      <td>0</td>\n",
       "      <td>20161220144914327.jpg.chip.jpg</td>\n",
       "      <td>202 205 209 210 209 209 210 211 212 214 218 21...</td>\n",
       "    </tr>\n",
       "  </tbody>\n",
       "</table>\n",
       "</div>"
      ],
      "text/plain": [
       "   age  ethnicity  gender                        img_name  \\\n",
       "0    1          2       0  20161219203650636.jpg.chip.jpg   \n",
       "1    1          2       0  20161219222752047.jpg.chip.jpg   \n",
       "2    1          2       0  20161219222832191.jpg.chip.jpg   \n",
       "3    1          2       0  20161220144911423.jpg.chip.jpg   \n",
       "4    1          2       0  20161220144914327.jpg.chip.jpg   \n",
       "\n",
       "                                              pixels  \n",
       "0  129 128 128 126 127 130 133 135 139 142 145 14...  \n",
       "1  164 74 111 168 169 171 175 182 184 188 193 199...  \n",
       "2  67 70 71 70 69 67 70 79 90 103 116 132 145 155...  \n",
       "3  193 197 198 200 199 200 202 203 204 205 208 21...  \n",
       "4  202 205 209 210 209 209 210 211 212 214 218 21...  "
      ]
     },
     "execution_count": 4,
     "metadata": {},
     "output_type": "execute_result"
    }
   ],
   "source": [
    "df.head()"
   ]
  },
  {
   "cell_type": "code",
   "execution_count": 283,
   "id": "132cedaf",
   "metadata": {},
   "outputs": [
    {
     "name": "stdout",
     "output_type": "stream",
     "text": [
      "<class 'pandas.core.frame.DataFrame'>\n",
      "RangeIndex: 23705 entries, 0 to 23704\n",
      "Data columns (total 5 columns):\n",
      " #   Column     Non-Null Count  Dtype \n",
      "---  ------     --------------  ----- \n",
      " 0   age        23705 non-null  int64 \n",
      " 1   ethnicity  23705 non-null  int64 \n",
      " 2   gender     23705 non-null  int64 \n",
      " 3   img_name   23705 non-null  object\n",
      " 4   pixels     23705 non-null  object\n",
      "dtypes: int64(3), object(2)\n",
      "memory usage: 926.1+ KB\n"
     ]
    }
   ],
   "source": [
    "df.info()"
   ]
  },
  {
   "cell_type": "markdown",
   "id": "61d4756d",
   "metadata": {},
   "source": [
    "### Data Cleaning & Visualisation"
   ]
  },
  {
   "cell_type": "code",
   "execution_count": 284,
   "id": "17be1bb9",
   "metadata": {},
   "outputs": [
    {
     "data": {
      "text/plain": [
       "age          0\n",
       "ethnicity    0\n",
       "gender       0\n",
       "img_name     0\n",
       "pixels       0\n",
       "dtype: int64"
      ]
     },
     "execution_count": 284,
     "metadata": {},
     "output_type": "execute_result"
    }
   ],
   "source": [
    "df.isnull().sum()"
   ]
  },
  {
   "cell_type": "code",
   "execution_count": 285,
   "id": "5de29bfe",
   "metadata": {},
   "outputs": [],
   "source": [
    "df['pixels'] =df['pixels'].apply(lambda x : np.array(x.split(),dtype=\"float32\"))"
   ]
  },
  {
   "cell_type": "code",
   "execution_count": 210,
   "id": "9b453f22",
   "metadata": {},
   "outputs": [
    {
     "data": {
      "image/png": "[encoded data removed]",
      "text/plain": [
       "<Figure size 200x200 with 1 Axes>"
      ]
     },
     "metadata": {},
     "output_type": "display_data"
    },
    {
     "data": {
      "image/png": "[encoded data removed]",
      "text/plain": [
       "<Figure size 640x480 with 1 Axes>"
      ]
     },
     "metadata": {},
     "output_type": "display_data"
    },
    {
     "data": {
      "image/png": "[encoded data removed]",
      "text/plain": [
       "<Figure size 640x480 with 1 Axes>"
      ]
     },
     "metadata": {},
     "output_type": "display_data"
    },
    {
     "data": {
      "image/png": "[encoded data removed]",
      "text/plain": [
       "<Figure size 640x480 with 1 Axes>"
      ]
     },
     "metadata": {},
     "output_type": "display_data"
    },
    {
     "data": {
      "image/png": "[encoded data removed]",
      "text/plain": [
       "<Figure size 640x480 with 1 Axes>"
      ]
     },
     "metadata": {},
     "output_type": "display_data"
    },
    {
     "data": {
      "image/png": "[encoded data removed]",
      "text/plain": [
       "<Figure size 640x480 with 1 Axes>"
      ]
     },
     "metadata": {},
     "output_type": "display_data"
    },
    {
     "data": {
      "image/png": "[encoded data removed]",
      "text/plain": [
       "<Figure size 640x480 with 1 Axes>"
      ]
     },
     "metadata": {},
     "output_type": "display_data"
    },
    {
     "data": {
      "image/png": "[encoded data removed]",
      "text/plain": [
       "<Figure size 640x480 with 1 Axes>"
      ]
     },
     "metadata": {},
     "output_type": "display_data"
    },
    {
     "data": {
      "image/png": "[encoded data removed]",
      "text/plain": [
       "<Figure size 640x480 with 1 Axes>"
      ]
     },
     "metadata": {},
     "output_type": "display_data"
    },
    {
     "data": {
      "image/png": "[encoded data removed]",
      "text/plain": [
       "<Figure size 640x480 with 1 Axes>"
      ]
     },
     "metadata": {},
     "output_type": "display_data"
    },
    {
     "data": {
      "image/png": "[encoded data removed]",
      "text/plain": [
       "<Figure size 640x480 with 1 Axes>"
      ]
     },
     "metadata": {},
     "output_type": "display_data"
    },
    {
     "data": {
      "image/png": "[encoded data removed]",
      "text/plain": [
       "<Figure size 640x480 with 1 Axes>"
      ]
     },
     "metadata": {},
     "output_type": "display_data"
    },
    {
     "data": {
      "image/png": "[encoded data removed]",
      "text/plain": [
       "<Figure size 640x480 with 1 Axes>"
      ]
     },
     "metadata": {},
     "output_type": "display_data"
    },
    {
     "data": {
      "image/png": "[encoded data removed]",
      "text/plain": [
       "<Figure size 640x480 with 1 Axes>"
      ]
     },
     "metadata": {},
     "output_type": "display_data"
    },
    {
     "data": {
      "image/png": "[encoded data removed]",
      "text/plain": [
       "<Figure size 640x480 with 1 Axes>"
      ]
     },
     "metadata": {},
     "output_type": "display_data"
    },
    {
     "data": {
      "image/png": "[encoded data removed]",
      "text/plain": [
       "<Figure size 640x480 with 1 Axes>"
      ]
     },
     "metadata": {},
     "output_type": "display_data"
    },
    {
     "data": {
      "image/png": "[encoded data removed]",
      "text/plain": [
       "<Figure size 640x480 with 1 Axes>"
      ]
     },
     "metadata": {},
     "output_type": "display_data"
    },
    {
     "data": {
      "image/png": "[encoded data removed]",
      "text/plain": [
       "<Figure size 640x480 with 1 Axes>"
      ]
     },
     "metadata": {},
     "output_type": "display_data"
    },
    {
     "data": {
      "image/png": "[encoded data removed]",
      "text/plain": [
       "<Figure size 640x480 with 1 Axes>"
      ]
     },
     "metadata": {},
     "output_type": "display_data"
    },
    {
     "data": {
      "image/png": "[encoded data removed]",
      "text/plain": [
       "<Figure size 640x480 with 1 Axes>"
      ]
     },
     "metadata": {},
     "output_type": "display_data"
    },
    {
     "data": {
      "image/png": "[encoded data removed]",
      "text/plain": [
       "<Figure size 640x480 with 1 Axes>"
      ]
     },
     "metadata": {},
     "output_type": "display_data"
    },
    {
     "data": {
      "image/png": "[encoded data removed]",
      "text/plain": [
       "<Figure size 640x480 with 1 Axes>"
      ]
     },
     "metadata": {},
     "output_type": "display_data"
    },
    {
     "data": {
      "image/png": "[encoded data removed]",
      "text/plain": [
       "<Figure size 640x480 with 1 Axes>"
      ]
     },
     "metadata": {},
     "output_type": "display_data"
    },
    {
     "data": {
      "image/png": "[encoded data removed]",
      "text/plain": [
       "<Figure size 640x480 with 1 Axes>"
      ]
     },
     "metadata": {},
     "output_type": "display_data"
    },
    {
     "data": {
      "image/png": "[encoded data removed]",
      "text/plain": [
       "<Figure size 640x480 with 1 Axes>"
      ]
     },
     "metadata": {},
     "output_type": "display_data"
    }
   ],
   "source": [
    "plt.figure(figsize=(2,2))\n",
    "\n",
    "for i in range(25):\n",
    "    index = np.random.randint(0, len(df))\n",
    "    plt.subplot(5, 5, i + 1)\n",
    "    plt.imshow(df['pixels'].iloc[index].reshape(48,48),\"gray\")\n",
    "    plt.xticks([])\n",
    "    plt.yticks([])\n",
    "    plt.xlabel(\n",
    "    \"Age: \"+str(df['age'].iloc[i])+\n",
    "    \" Ethnicity:\"+str(df['ethnicity'].iloc[i])+\n",
    "    \" Gender:\"+str(df['gender'].iloc[i]))\n",
    "   \n",
    "    plt.show()"
   ]
  },
  {
   "cell_type": "code",
   "execution_count": 286,
   "id": "d8248395",
   "metadata": {},
   "outputs": [
    {
     "data": {
      "text/html": [
       "<div>\n",
       "<style scoped>\n",
       "    .dataframe tbody tr th:only-of-type {\n",
       "        vertical-align: middle;\n",
       "    }\n",
       "\n",
       "    .dataframe tbody tr th {\n",
       "        vertical-align: top;\n",
       "    }\n",
       "\n",
       "    .dataframe thead th {\n",
       "        text-align: right;\n",
       "    }\n",
       "</style>\n",
       "<table border=\"1\" class=\"dataframe\">\n",
       "  <thead>\n",
       "    <tr style=\"text-align: right;\">\n",
       "      <th></th>\n",
       "      <th>age</th>\n",
       "      <th>ethnicity</th>\n",
       "      <th>gender</th>\n",
       "      <th>img_name</th>\n",
       "      <th>pixels</th>\n",
       "    </tr>\n",
       "  </thead>\n",
       "  <tbody>\n",
       "    <tr>\n",
       "      <th>0</th>\n",
       "      <td>1</td>\n",
       "      <td>2</td>\n",
       "      <td>0</td>\n",
       "      <td>20161219203650636.jpg.chip.jpg</td>\n",
       "      <td>[129.0, 128.0, 128.0, 126.0, 127.0, 130.0, 133...</td>\n",
       "    </tr>\n",
       "    <tr>\n",
       "      <th>1</th>\n",
       "      <td>1</td>\n",
       "      <td>2</td>\n",
       "      <td>0</td>\n",
       "      <td>20161219222752047.jpg.chip.jpg</td>\n",
       "      <td>[164.0, 74.0, 111.0, 168.0, 169.0, 171.0, 175....</td>\n",
       "    </tr>\n",
       "    <tr>\n",
       "      <th>2</th>\n",
       "      <td>1</td>\n",
       "      <td>2</td>\n",
       "      <td>0</td>\n",
       "      <td>20161219222832191.jpg.chip.jpg</td>\n",
       "      <td>[67.0, 70.0, 71.0, 70.0, 69.0, 67.0, 70.0, 79....</td>\n",
       "    </tr>\n",
       "    <tr>\n",
       "      <th>3</th>\n",
       "      <td>1</td>\n",
       "      <td>2</td>\n",
       "      <td>0</td>\n",
       "      <td>20161220144911423.jpg.chip.jpg</td>\n",
       "      <td>[193.0, 197.0, 198.0, 200.0, 199.0, 200.0, 202...</td>\n",
       "    </tr>\n",
       "    <tr>\n",
       "      <th>4</th>\n",
       "      <td>1</td>\n",
       "      <td>2</td>\n",
       "      <td>0</td>\n",
       "      <td>20161220144914327.jpg.chip.jpg</td>\n",
       "      <td>[202.0, 205.0, 209.0, 210.0, 209.0, 209.0, 210...</td>\n",
       "    </tr>\n",
       "  </tbody>\n",
       "</table>\n",
       "</div>"
      ],
      "text/plain": [
       "   age  ethnicity  gender                        img_name  \\\n",
       "0    1          2       0  20161219203650636.jpg.chip.jpg   \n",
       "1    1          2       0  20161219222752047.jpg.chip.jpg   \n",
       "2    1          2       0  20161219222832191.jpg.chip.jpg   \n",
       "3    1          2       0  20161220144911423.jpg.chip.jpg   \n",
       "4    1          2       0  20161220144914327.jpg.chip.jpg   \n",
       "\n",
       "                                              pixels  \n",
       "0  [129.0, 128.0, 128.0, 126.0, 127.0, 130.0, 133...  \n",
       "1  [164.0, 74.0, 111.0, 168.0, 169.0, 171.0, 175....  \n",
       "2  [67.0, 70.0, 71.0, 70.0, 69.0, 67.0, 70.0, 79....  \n",
       "3  [193.0, 197.0, 198.0, 200.0, 199.0, 200.0, 202...  \n",
       "4  [202.0, 205.0, 209.0, 210.0, 209.0, 209.0, 210...  "
      ]
     },
     "execution_count": 286,
     "metadata": {},
     "output_type": "execute_result"
    }
   ],
   "source": [
    "df.head()"
   ]
  },
  {
   "cell_type": "code",
   "execution_count": 258,
   "id": "e3a68313",
   "metadata": {},
   "outputs": [
    {
     "data": {
      "text/plain": [
       "26     2197\n",
       "1      1123\n",
       "28      918\n",
       "35      880\n",
       "24      859\n",
       "       ... \n",
       "115       3\n",
       "101       2\n",
       "91        2\n",
       "111       1\n",
       "103       1\n",
       "Name: age, Length: 104, dtype: int64"
      ]
     },
     "execution_count": 258,
     "metadata": {},
     "output_type": "execute_result"
    }
   ],
   "source": [
    "df['age'].value_counts()"
   ]
  },
  {
   "cell_type": "code",
   "execution_count": 259,
   "id": "9782a22e",
   "metadata": {},
   "outputs": [
    {
     "data": {
      "text/plain": [
       "<Axes: xlabel='age', ylabel='Count'>"
      ]
     },
     "execution_count": 259,
     "metadata": {},
     "output_type": "execute_result"
    },
    {
     "data": {
      "image/png": "[encoded data removed]",
      "text/plain": [
       "<Figure size 640x480 with 1 Axes>"
      ]
     },
     "metadata": {},
     "output_type": "display_data"
    }
   ],
   "source": [
    "sns.histplot(data=df, x='age')"
   ]
  },
  {
   "cell_type": "code",
   "execution_count": 260,
   "id": "a6bc1933",
   "metadata": {},
   "outputs": [],
   "source": [
    "#ages = df['age']\n",
    "\n",
    "#age_labels = ['0-5', '5-10', '10-15', '15-20', '20-25', '25-30', '30-35', '35-40', '40-45', '45-50', '50-55', '55-60', '60-80', '80 and above']\n",
    "\n",
    "#age_bins = [0, 5, 10, 15, 20, 25, 30, 35, 40, 45, 50, 55, 60, 80,120]\n",
    "\n",
    "#df = pd.DataFrame({'Age': ages})\n",
    "\n",
    "#df['Age Group'] = pd.cut(df['Age'], bins=age_bins, labels=age_labels)\n",
    "\n",
    "#age_group_counts = df['Age Group'].value_counts().to_dict()\n",
    "\n",
    "#age_group_counts"
   ]
  },
  {
   "cell_type": "code",
   "execution_count": 261,
   "id": "f762a16f",
   "metadata": {},
   "outputs": [],
   "source": [
    "#df['Age Group']"
   ]
  },
  {
   "cell_type": "code",
   "execution_count": 262,
   "id": "bcdda28a",
   "metadata": {},
   "outputs": [],
   "source": [
    "#df['Age Group']=df['Age Group'].map({'0-5':0,'5-10':1,'10-15':2,'15-20':3,'20-25':4,'25-30':5,'30-35':6,'35-40':7,'40-45':8,'45-50':9,'50-55':10,'55-60':11,'60-80':12,'80 and above':13})"
   ]
  },
  {
   "cell_type": "code",
   "execution_count": 263,
   "id": "f101fa51",
   "metadata": {},
   "outputs": [],
   "source": [
    "#df['Age Group'].value_counts()"
   ]
  },
  {
   "cell_type": "code",
   "execution_count": 287,
   "id": "8e537008",
   "metadata": {},
   "outputs": [
    {
     "data": {
      "text/plain": [
       "0    10078\n",
       "1     4526\n",
       "3     3975\n",
       "2     3434\n",
       "4     1692\n",
       "Name: ethnicity, dtype: int64"
      ]
     },
     "execution_count": 287,
     "metadata": {},
     "output_type": "execute_result"
    }
   ],
   "source": [
    "df['ethnicity'].value_counts()"
   ]
  },
  {
   "cell_type": "code",
   "execution_count": 288,
   "id": "d283a5f1",
   "metadata": {},
   "outputs": [
    {
     "data": {
      "text/plain": [
       "<Axes: xlabel='ethnicity', ylabel='count'>"
      ]
     },
     "execution_count": 288,
     "metadata": {},
     "output_type": "execute_result"
    },
    {
     "data": {
      "image/png": "[encoded data removed]",
      "text/plain": [
       "<Figure size 640x480 with 1 Axes>"
      ]
     },
     "metadata": {},
     "output_type": "display_data"
    }
   ],
   "source": [
    "sns.countplot(data=df, x='ethnicity')"
   ]
  },
  {
   "cell_type": "code",
   "execution_count": 289,
   "id": "d429ecd3",
   "metadata": {},
   "outputs": [
    {
     "data": {
      "text/html": [
       "<div>\n",
       "<style scoped>\n",
       "    .dataframe tbody tr th:only-of-type {\n",
       "        vertical-align: middle;\n",
       "    }\n",
       "\n",
       "    .dataframe tbody tr th {\n",
       "        vertical-align: top;\n",
       "    }\n",
       "\n",
       "    .dataframe thead th {\n",
       "        text-align: right;\n",
       "    }\n",
       "</style>\n",
       "<table border=\"1\" class=\"dataframe\">\n",
       "  <thead>\n",
       "    <tr style=\"text-align: right;\">\n",
       "      <th></th>\n",
       "      <th>age</th>\n",
       "      <th>ethnicity</th>\n",
       "      <th>gender</th>\n",
       "      <th>img_name</th>\n",
       "      <th>pixels</th>\n",
       "    </tr>\n",
       "  </thead>\n",
       "  <tbody>\n",
       "    <tr>\n",
       "      <th>0</th>\n",
       "      <td>1</td>\n",
       "      <td>2</td>\n",
       "      <td>0</td>\n",
       "      <td>20161219203650636.jpg.chip.jpg</td>\n",
       "      <td>[129.0, 128.0, 128.0, 126.0, 127.0, 130.0, 133...</td>\n",
       "    </tr>\n",
       "    <tr>\n",
       "      <th>1</th>\n",
       "      <td>1</td>\n",
       "      <td>2</td>\n",
       "      <td>0</td>\n",
       "      <td>20161219222752047.jpg.chip.jpg</td>\n",
       "      <td>[164.0, 74.0, 111.0, 168.0, 169.0, 171.0, 175....</td>\n",
       "    </tr>\n",
       "    <tr>\n",
       "      <th>2</th>\n",
       "      <td>1</td>\n",
       "      <td>2</td>\n",
       "      <td>0</td>\n",
       "      <td>20161219222832191.jpg.chip.jpg</td>\n",
       "      <td>[67.0, 70.0, 71.0, 70.0, 69.0, 67.0, 70.0, 79....</td>\n",
       "    </tr>\n",
       "    <tr>\n",
       "      <th>3</th>\n",
       "      <td>1</td>\n",
       "      <td>2</td>\n",
       "      <td>0</td>\n",
       "      <td>20161220144911423.jpg.chip.jpg</td>\n",
       "      <td>[193.0, 197.0, 198.0, 200.0, 199.0, 200.0, 202...</td>\n",
       "    </tr>\n",
       "    <tr>\n",
       "      <th>4</th>\n",
       "      <td>1</td>\n",
       "      <td>2</td>\n",
       "      <td>0</td>\n",
       "      <td>20161220144914327.jpg.chip.jpg</td>\n",
       "      <td>[202.0, 205.0, 209.0, 210.0, 209.0, 209.0, 210...</td>\n",
       "    </tr>\n",
       "  </tbody>\n",
       "</table>\n",
       "</div>"
      ],
      "text/plain": [
       "   age  ethnicity  gender                        img_name  \\\n",
       "0    1          2       0  20161219203650636.jpg.chip.jpg   \n",
       "1    1          2       0  20161219222752047.jpg.chip.jpg   \n",
       "2    1          2       0  20161219222832191.jpg.chip.jpg   \n",
       "3    1          2       0  20161220144911423.jpg.chip.jpg   \n",
       "4    1          2       0  20161220144914327.jpg.chip.jpg   \n",
       "\n",
       "                                              pixels  \n",
       "0  [129.0, 128.0, 128.0, 126.0, 127.0, 130.0, 133...  \n",
       "1  [164.0, 74.0, 111.0, 168.0, 169.0, 171.0, 175....  \n",
       "2  [67.0, 70.0, 71.0, 70.0, 69.0, 67.0, 70.0, 79....  \n",
       "3  [193.0, 197.0, 198.0, 200.0, 199.0, 200.0, 202...  \n",
       "4  [202.0, 205.0, 209.0, 210.0, 209.0, 209.0, 210...  "
      ]
     },
     "execution_count": 289,
     "metadata": {},
     "output_type": "execute_result"
    }
   ],
   "source": [
    "df.head()"
   ]
  },
  {
   "cell_type": "code",
   "execution_count": 276,
   "id": "4210a129",
   "metadata": {},
   "outputs": [],
   "source": [
    "#ethnicity=np.array(ethnicity).astype(np.float32)"
   ]
  },
  {
   "cell_type": "code",
   "execution_count": 292,
   "id": "3e8ac486",
   "metadata": {},
   "outputs": [
    {
     "name": "stderr",
     "output_type": "stream",
     "text": [
      "C:\\Users\\Aaradhya Bora\\AppData\\Roaming\\Python\\Python311\\site-packages\\sklearn\\preprocessing\\_encoders.py:868: FutureWarning: `sparse` was renamed to `sparse_output` in version 1.2 and will be removed in 1.4. `sparse_output` is ignored unless you leave `sparse` to its default value.\n",
      "  warnings.warn(\n"
     ]
    },
    {
     "data": {
      "text/plain": [
       "array([[0., 0., 1., 0., 0.],\n",
       "       [0., 0., 1., 0., 0.],\n",
       "       [0., 0., 1., 0., 0.],\n",
       "       ...,\n",
       "       [0., 0., 1., 0., 0.],\n",
       "       [0., 0., 1., 0., 0.],\n",
       "       [1., 0., 0., 0., 0.]])"
      ]
     },
     "execution_count": 292,
     "metadata": {},
     "output_type": "execute_result"
    }
   ],
   "source": [
    "from sklearn.preprocessing import OneHotEncoder\n",
    "\n",
    "encoder = OneHotEncoder(sparse=False)\n",
    "\n",
    "ethnicity_2d = df['ethnicity'].values.reshape(-1, 1)\n",
    "\n",
    "ethnicity_encoded = encoder.fit_transform(ethnicity_2d)\n",
    "\n",
    "ethnicity_encoded"
   ]
  },
  {
   "cell_type": "code",
   "execution_count": 293,
   "id": "8040614a",
   "metadata": {},
   "outputs": [
    {
     "data": {
      "text/plain": [
       "(23705, 5)"
      ]
     },
     "execution_count": 293,
     "metadata": {},
     "output_type": "execute_result"
    }
   ],
   "source": [
    "ethnicity_encoded.shape"
   ]
  },
  {
   "cell_type": "code",
   "execution_count": 125,
   "id": "080fbe4d",
   "metadata": {},
   "outputs": [
    {
     "data": {
      "text/plain": [
       "0    12391\n",
       "1    11314\n",
       "Name: gender, dtype: int64"
      ]
     },
     "execution_count": 125,
     "metadata": {},
     "output_type": "execute_result"
    }
   ],
   "source": [
    "df['gender'].value_counts()"
   ]
  },
  {
   "cell_type": "code",
   "execution_count": 126,
   "id": "72ac56b1",
   "metadata": {},
   "outputs": [
    {
     "data": {
      "text/plain": [
       "<Axes: xlabel='gender', ylabel='count'>"
      ]
     },
     "execution_count": 126,
     "metadata": {},
     "output_type": "execute_result"
    },
    {
     "data": {
      "image/png": "[encoded data removed]",
      "text/plain": [
       "<Figure size 640x480 with 1 Axes>"
      ]
     },
     "metadata": {},
     "output_type": "display_data"
    }
   ],
   "source": [
    "sns.countplot(data=df, x='gender')"
   ]
  },
  {
   "cell_type": "markdown",
   "id": "e82d256f",
   "metadata": {},
   "source": [
    "### Divide data into X and y"
   ]
  },
  {
   "cell_type": "code",
   "execution_count": 294,
   "id": "96ffa428",
   "metadata": {},
   "outputs": [],
   "source": [
    "X = np.array(df['pixels'].tolist())\n",
    "X = X.reshape(X.shape[0],48,48,1)"
   ]
  },
  {
   "cell_type": "code",
   "execution_count": 295,
   "id": "1f6953cb",
   "metadata": {},
   "outputs": [
    {
     "data": {
      "text/plain": [
       "(23705, 48, 48, 1)"
      ]
     },
     "execution_count": 295,
     "metadata": {},
     "output_type": "execute_result"
    }
   ],
   "source": [
    "X.shape"
   ]
  },
  {
   "cell_type": "code",
   "execution_count": 296,
   "id": "5724b8e8",
   "metadata": {},
   "outputs": [],
   "source": [
    "y = df.drop (['pixels','img_name'],axis=1)"
   ]
  },
  {
   "cell_type": "code",
   "execution_count": 297,
   "id": "8d731923",
   "metadata": {},
   "outputs": [
    {
     "data": {
      "text/html": [
       "<div>\n",
       "<style scoped>\n",
       "    .dataframe tbody tr th:only-of-type {\n",
       "        vertical-align: middle;\n",
       "    }\n",
       "\n",
       "    .dataframe tbody tr th {\n",
       "        vertical-align: top;\n",
       "    }\n",
       "\n",
       "    .dataframe thead th {\n",
       "        text-align: right;\n",
       "    }\n",
       "</style>\n",
       "<table border=\"1\" class=\"dataframe\">\n",
       "  <thead>\n",
       "    <tr style=\"text-align: right;\">\n",
       "      <th></th>\n",
       "      <th>age</th>\n",
       "      <th>ethnicity</th>\n",
       "      <th>gender</th>\n",
       "    </tr>\n",
       "  </thead>\n",
       "  <tbody>\n",
       "    <tr>\n",
       "      <th>0</th>\n",
       "      <td>1</td>\n",
       "      <td>2</td>\n",
       "      <td>0</td>\n",
       "    </tr>\n",
       "    <tr>\n",
       "      <th>1</th>\n",
       "      <td>1</td>\n",
       "      <td>2</td>\n",
       "      <td>0</td>\n",
       "    </tr>\n",
       "    <tr>\n",
       "      <th>2</th>\n",
       "      <td>1</td>\n",
       "      <td>2</td>\n",
       "      <td>0</td>\n",
       "    </tr>\n",
       "    <tr>\n",
       "      <th>3</th>\n",
       "      <td>1</td>\n",
       "      <td>2</td>\n",
       "      <td>0</td>\n",
       "    </tr>\n",
       "    <tr>\n",
       "      <th>4</th>\n",
       "      <td>1</td>\n",
       "      <td>2</td>\n",
       "      <td>0</td>\n",
       "    </tr>\n",
       "  </tbody>\n",
       "</table>\n",
       "</div>"
      ],
      "text/plain": [
       "   age  ethnicity  gender\n",
       "0    1          2       0\n",
       "1    1          2       0\n",
       "2    1          2       0\n",
       "3    1          2       0\n",
       "4    1          2       0"
      ]
     },
     "execution_count": 297,
     "metadata": {},
     "output_type": "execute_result"
    }
   ],
   "source": [
    "y.head()"
   ]
  },
  {
   "cell_type": "code",
   "execution_count": 298,
   "id": "95e581e1",
   "metadata": {},
   "outputs": [
    {
     "data": {
      "text/plain": [
       "age          104\n",
       "ethnicity      5\n",
       "gender         2\n",
       "dtype: int64"
      ]
     },
     "execution_count": 298,
     "metadata": {},
     "output_type": "execute_result"
    }
   ],
   "source": [
    "y.nunique()"
   ]
  },
  {
   "cell_type": "code",
   "execution_count": 299,
   "id": "12dddecd",
   "metadata": {},
   "outputs": [],
   "source": [
    "datagen = ImageDataGenerator(\n",
    "    rotation_range=5,        # Randomly rotate images by up to 40 degrees\n",
    "    width_shift_range=0.1,    # Randomly shift the width of the images\n",
    "    height_shift_range=0.1,   # Randomly shift the height of the images\n",
    "    shear_range=0.2,          # Randomly apply shearing transformations\n",
    "    zoom_range=0.1,           # Randomly zoom in on images\n",
    "    horizontal_flip=False,     # Randomly flip images horizontally\n",
    "    fill_mode='nearest'       # Fill in missing pixels with the nearest value\n",
    ")\n",
    "\n",
    "\n",
    "train_datagen=ImageDataGenerator(rescale=1/255)\n",
    "test_datagen=ImageDataGenerator(rescale=1/255)"
   ]
  },
  {
   "cell_type": "markdown",
   "id": "e7c436e1",
   "metadata": {},
   "source": [
    "# 1. Prediction of Gender"
   ]
  },
  {
   "cell_type": "markdown",
   "id": "e9621735",
   "metadata": {},
   "source": [
    "### 1a. Train and Test Split"
   ]
  },
  {
   "cell_type": "code",
   "execution_count": 84,
   "id": "c90a33e9",
   "metadata": {},
   "outputs": [],
   "source": [
    "from sklearn.model_selection import train_test_split\n",
    "\n",
    "gender = df['gender']\n",
    "X_train_gender, X_test_gender, y_train_gender, y_test_gender = train_test_split(X,gender,test_size=0.3,random_state=42)\n",
    "\n",
    "train_generator_gender=train_datagen.flow(X_train_gender ,y_train_gender ,batch_size=32)\n",
    "test_generator_gender=test_datagen.flow(X_test_gender ,y_test_gender ,batch_size=32)"
   ]
  },
  {
   "cell_type": "code",
   "execution_count": 85,
   "id": "c2dea0ec",
   "metadata": {},
   "outputs": [
    {
     "data": {
      "text/plain": [
       "(16593, 48, 48, 1)"
      ]
     },
     "execution_count": 85,
     "metadata": {},
     "output_type": "execute_result"
    }
   ],
   "source": [
    "X_train_gender.shape"
   ]
  },
  {
   "cell_type": "markdown",
   "id": "0c6a8eae",
   "metadata": {},
   "source": [
    "### 1b. CNN Modelling"
   ]
  },
  {
   "cell_type": "code",
   "execution_count": 171,
   "id": "6dc18230",
   "metadata": {},
   "outputs": [],
   "source": [
    "def build_model(hp):\n",
    "    \n",
    "    cnn = models.Sequential()\n",
    "\n",
    "    counter = 0\n",
    "    \n",
    "    for i in range(hp.Int('num_layers', min_value=1, max_value=10)):\n",
    "        if counter == 0:\n",
    "            cnn.add(\n",
    "                layers.Conv2D(\n",
    "                    hp.Int('units'+ str(i), min_value=8, max_value=128, step=8),\n",
    "                    kernel_size=(3, 3),\n",
    "                    activation=hp.Choice('activation'+ str(i), values=['relu','tanh','sigmoid','softmax']),\n",
    "                    padding='same',\n",
    "                    input_shape=(48, 48, 1)))  # Corrected input_shape\n",
    "            cnn.add(layers.BatchNormalization())\n",
    "            cnn.add(layers.MaxPooling2D((1, 1)))\n",
    "            cnn.add(layers.Dropout(0.2))\n",
    "        else:\n",
    "            cnn.add(\n",
    "                layers.Conv2D(\n",
    "                    hp.Int('units'+ str(i), min_value=8, max_value=128, step=8),\n",
    "                    kernel_size=(3, 3),\n",
    "                    activation=hp.Choice('activation'+ str(i), values=['relu','tanh','sigmoid','LeakyReLU']),\n",
    "                    padding='same',\n",
    "                    input_shape=(48, 48, 1)))  # Corrected input_shape\n",
    "            cnn.add(layers.BatchNormalization())\n",
    "            cnn.add(layers.MaxPooling2D((1, 1)))\n",
    "            cnn.add(layers.Dropout(0.2))\n",
    "        counter += 1   \n",
    "    \n",
    "    # Flatten and add dense layers\n",
    "    flatten_size = hp.Int('flatten_size', min_value=8, max_value=128, step=8)\n",
    "    cnn.add(layers.Flatten())\n",
    "    \n",
    "    cnn.add(layers.Dense(64, activation='relu'))\n",
    "    cnn.add(layers.Dense(1, activation='sigmoid'))\n",
    "\n",
    "    # Compile the model\n",
    "    cnn.compile(optimizer=hp.Choice('optimizer', values=['adam', 'sgd', 'rmsprop', 'adadelta']), loss='binary_crossentropy', metrics=['accuracy'])\n",
    "\n",
    "    return cnn\n"
   ]
  },
  {
   "cell_type": "code",
   "execution_count": 172,
   "id": "e2aabb61",
   "metadata": {},
   "outputs": [
    {
     "name": "stdout",
     "output_type": "stream",
     "text": [
      "Reloading Tuner from output\\Image_detection_3\\tuner0.json\n"
     ]
    }
   ],
   "source": [
    "from keras_tuner import RandomSearch\n",
    "from keras_tuner import HyperParameters\n",
    "\n",
    "  \n",
    "tuner_search = RandomSearch(build_model, objective='val_accuracy', max_trials=5, directory='output', project_name='Image_detection_3')\n",
    "tuner_search.search(train_generator_gender, epochs=2, validation_data=test_generator_gender)"
   ]
  },
  {
   "cell_type": "code",
   "execution_count": 173,
   "id": "20a737bd",
   "metadata": {},
   "outputs": [
    {
     "name": "stdout",
     "output_type": "stream",
     "text": [
      "Best Hyperparameters:\n",
      "Optimizer: adam\n",
      "Activation Function: relu\n",
      "Number of Layers: 4\n",
      "Nodes per Layer: 72\n"
     ]
    }
   ],
   "source": [
    "best_hps = tuner_search.get_best_hyperparameters(num_trials=1)[0]\n",
    "\n",
    "# Print the best hyperparameters\n",
    "print(\"Best Hyperparameters:\")\n",
    "print(f\"Optimizer: {best_hps.get('optimizer')}\")\n",
    "print(f\"Activation Function: {best_hps.get('activation0')}\")  # Assuming you want the activation function of the first layer\n",
    "print(f\"Number of Layers: {best_hps.get('num_layers')}\")\n",
    "print(f\"Nodes per Layer: {best_hps.get('units0')}\")\n",
    "\n"
   ]
  },
  {
   "cell_type": "code",
   "execution_count": 176,
   "id": "27550f80",
   "metadata": {},
   "outputs": [
    {
     "name": "stdout",
     "output_type": "stream",
     "text": [
      "dict_keys(['loss', 'accuracy', 'val_loss', 'val_accuracy'])\n"
     ]
    }
   ],
   "source": [
    "print(Image_gender.history.keys())"
   ]
  },
  {
   "cell_type": "code",
   "execution_count": 177,
   "id": "0fdfd8d5",
   "metadata": {},
   "outputs": [
    {
     "name": "stdout",
     "output_type": "stream",
     "text": [
      "519/519 [==============================] - 1125s 2s/step - loss: 0.3620 - accuracy: 0.8633 - val_loss: 0.7114 - val_accuracy: 0.7895\n",
      "Results saved to hyperparameter_results.json\n"
     ]
    }
   ],
   "source": [
    "model_gender = tuner_search.get_best_models(num_models=1)[0]\n",
    "\n",
    "Image_gender=model_gender.fit(train_generator_gender,epochs=1, validation_data=test_generator_gender)\n",
    "\n",
    "\n",
    "\n",
    "best_hyperparameters = best_hps.get_config()\n",
    "\n",
    "training_loss = Image_gender.history['loss']\n",
    "training_accuracy = Image_gender.history['accuracy']\n",
    "validation_loss = Image_gender.history['val_loss']\n",
    "validation_accuracy = Image_gender.history['val_accuracy']\n",
    "\n",
    "# Create a dictionary to store the results\n",
    "results = {\n",
    "    'best_hyperparameters': best_hyperparameters,\n",
    "    'training_loss': training_loss,\n",
    "    'training_accuracy': training_accuracy,\n",
    "    'validation_loss': validation_loss,\n",
    "    'validation_accuracy': validation_accuracy\n",
    "}\n",
    "\n",
    "# Specify the filename where you want to save the results\n",
    "json_filename_gender = 'hyperparameter_results.json'\n",
    "\n",
    "# Save the results to the JSON file\n",
    "with open(json_filename_gender, 'w') as json_file:\n",
    "    json.dump(results, json_file, indent=4)\n",
    "\n",
    "print(f'Results saved to {json_filename_gender}')"
   ]
  },
  {
   "cell_type": "markdown",
   "id": "f216942f",
   "metadata": {},
   "source": [
    "1. Model Accuracy is 86%\n",
    "2. Val_accuracy is 79%"
   ]
  },
  {
   "cell_type": "markdown",
   "id": "f542bb56",
   "metadata": {},
   "source": [
    "### 1c. Prediction"
   ]
  },
  {
   "cell_type": "code",
   "execution_count": 90,
   "id": "27307fa2",
   "metadata": {},
   "outputs": [
    {
     "name": "stdout",
     "output_type": "stream",
     "text": [
      "223/223 [==============================] - 78s 349ms/step - loss: 0.3607 - accuracy: 0.8272\n"
     ]
    },
    {
     "data": {
      "text/plain": [
       "[0.3607197701931, 0.8271934986114502]"
      ]
     },
     "execution_count": 90,
     "metadata": {},
     "output_type": "execute_result"
    }
   ],
   "source": [
    "model.evaluate(X_test_gender,y_test_gender)"
   ]
  },
  {
   "cell_type": "markdown",
   "id": "1949bb6d",
   "metadata": {},
   "source": [
    "After evaluating the model accuracy is 83%"
   ]
  },
  {
   "cell_type": "code",
   "execution_count": 178,
   "id": "01a9de6d",
   "metadata": {},
   "outputs": [
    {
     "name": "stdout",
     "output_type": "stream",
     "text": [
      "223/223 [==============================] - 83s 371ms/step\n"
     ]
    }
   ],
   "source": [
    "gen_pred = model.predict(X_test_gender)\n",
    "gender_prediction=(gen_pred>0.5)"
   ]
  },
  {
   "cell_type": "code",
   "execution_count": 179,
   "id": "bd641b03",
   "metadata": {},
   "outputs": [
    {
     "name": "stdout",
     "output_type": "stream",
     "text": [
      "[[3599  142]\n",
      " [1087 2284]]\n"
     ]
    },
    {
     "data": {
      "text/plain": [
       "0.827193475815523"
      ]
     },
     "execution_count": 179,
     "metadata": {},
     "output_type": "execute_result"
    }
   ],
   "source": [
    "from sklearn.metrics import confusion_matrix, accuracy_score\n",
    "\n",
    "cm=confusion_matrix(y_test_gender,gender_prediction)\n",
    "print(cm)\n",
    "accuracy_score(y_test_gender,gender_prediction)"
   ]
  },
  {
   "cell_type": "code",
   "execution_count": 32,
   "id": "07a951c9",
   "metadata": {},
   "outputs": [],
   "source": [
    "import json\n",
    "\n",
    "project_data_Image_gender_Prediction = {\n",
    "    \n",
    "    \"model_info\": {\n",
    "        \"model_name\": \"CNN Model\",\n",
    "        \"model_description\": \"Convolutional neural network with multiple layers\",\n",
    "        \"model_training\": \"Optimizer: Adam, Learning rate: 0.001, Activation Function: relu, Number of Layers: 4,Nodes per Layer: 72, Batch size: 32, Epochs: 2\",\n",
    "        \"model_evaluation\": \"Accuracy: 86%, Loss: 0.36, Val_accuracy: 79%, val_loss: 0.71\"\n",
    "    },\n",
    "    \"hyperparameters\": {\n",
    "        \"learning_rate\": 0.001,\n",
    "        \"batch_size\": 32,\n",
    "        \"num_epochs\": 2,\n",
    "        \n",
    "    },\n",
    "    \"results\": {\n",
    "        \"result_1\": \"Achieved 83% accuracy on the evaluation of test set.\",\n",
    "        \"result_2\": \"Accuracy Score is 83%.\",\n",
    "        \"Confusion Matrix\": \"[3599  142],[1087 2284]\"\n",
    "                        \n",
    "   \n",
    "    }\n",
    "}\n",
    "\n",
    "# Save the project data to a JSON file\n",
    "with open('project_data_Image_gender_Prediction.json', 'w') as json_file:\n",
    "    json.dump(project_data_Image_gender_Prediction, json_file, indent=4)\n"
   ]
  },
  {
   "cell_type": "markdown",
   "id": "c7476ff2",
   "metadata": {},
   "source": [
    "# 2. Prediction of Age "
   ]
  },
  {
   "cell_type": "markdown",
   "id": "15225ec3",
   "metadata": {},
   "source": [
    "### 2a. Train and Test split"
   ]
  },
  {
   "cell_type": "code",
   "execution_count": 94,
   "id": "59e25776",
   "metadata": {},
   "outputs": [],
   "source": [
    "from sklearn.model_selection import train_test_split\n",
    "\n",
    "age = df['age']\n",
    "X_train_age, X_test_age, y_train_age, y_test_age = train_test_split(X,age,test_size=0.3,random_state=42)\n",
    "\n",
    "train_generator_age=train_datagen.flow(X_train_age ,y_train_age ,batch_size=32)\n",
    "test_generator_age=test_datagen.flow(X_test_age ,y_test_age ,batch_size=32) "
   ]
  },
  {
   "cell_type": "code",
   "execution_count": 95,
   "id": "0e5e0df4",
   "metadata": {},
   "outputs": [
    {
     "data": {
      "text/plain": [
       "(16593, 48, 48, 1)"
      ]
     },
     "execution_count": 95,
     "metadata": {},
     "output_type": "execute_result"
    }
   ],
   "source": [
    "X_train_age.shape"
   ]
  },
  {
   "cell_type": "markdown",
   "id": "d28de81e",
   "metadata": {},
   "source": [
    "### CNN Modelling"
   ]
  },
  {
   "cell_type": "code",
   "execution_count": 96,
   "id": "16cfcefd",
   "metadata": {},
   "outputs": [],
   "source": [
    "def build_model(hp):\n",
    "    \n",
    "    cnn = models.Sequential()\n",
    "\n",
    "    counter = 0\n",
    "    \n",
    "    for i in range(hp.Int('num_layers', min_value=1, max_value=10)):\n",
    "        if counter == 0:\n",
    "            cnn.add(\n",
    "                layers.Conv2D(\n",
    "                    hp.Int('units'+ str(i), min_value=8, max_value=128, step=8),\n",
    "                    kernel_size=(3, 3),\n",
    "                    activation=hp.Choice('activation'+ str(i), values=['relu','tanh','sigmoid','softmax']),\n",
    "                    padding='same',\n",
    "                    input_shape=(48, 48, 1)))  # Corrected input_shape\n",
    "            cnn.add(layers.BatchNormalization())\n",
    "            cnn.add(layers.MaxPooling2D((1, 1)))\n",
    "            cnn.add(layers.Dropout(0.2))\n",
    "        else:\n",
    "            cnn.add(\n",
    "                layers.Conv2D(\n",
    "                    hp.Int('units'+ str(i), min_value=8, max_value=128, step=8),\n",
    "                    kernel_size=(3, 3),\n",
    "                    activation=hp.Choice('activation'+ str(i), values=['relu','tanh','sigmoid','softmax']),\n",
    "                    padding='same',\n",
    "                    input_shape=(48, 48, 1)))  # Corrected input_shape\n",
    "            cnn.add(layers.BatchNormalization())\n",
    "            cnn.add(layers.MaxPooling2D((1, 1)))\n",
    "            cnn.add(layers.Dropout(0.2))\n",
    "        counter += 1   \n",
    "    \n",
    "    # Flatten and add dense layers\n",
    "    flatten_size = hp.Int('flatten_size', min_value=8, max_value=128, step=8)\n",
    "    cnn.add(layers.Flatten())\n",
    "    \n",
    "    cnn.add(layers.Dense(64, activation='relu'))\n",
    "    cnn.add(layers.Dense(1, activation='linear'))\n",
    "\n",
    "    # Compile the model\n",
    "    cnn.compile(optimizer=hp.Choice('optimizer', values=['adam', 'sgd', 'rmsprop', 'adadelta']), loss='mean_absolute_error', metrics=['mae'])\n",
    "\n",
    "    return cnn\n"
   ]
  },
  {
   "cell_type": "code",
   "execution_count": 97,
   "id": "758ca406",
   "metadata": {},
   "outputs": [
    {
     "name": "stdout",
     "output_type": "stream",
     "text": [
      "Reloading Tuner from output\\Image_detection_age\\tuner0.json\n"
     ]
    }
   ],
   "source": [
    "tuner_search = kt.RandomSearch(build_model, objective='val_loss', max_trials=5, directory='output', project_name='Image_detection_age')\n",
    "tuner_search.search(train_generator_age, epochs=2, validation_data=test_generator_age)"
   ]
  },
  {
   "cell_type": "code",
   "execution_count": 98,
   "id": "75bd46f2",
   "metadata": {},
   "outputs": [
    {
     "name": "stdout",
     "output_type": "stream",
     "text": [
      "Best Hyperparameters:\n",
      "Optimizer: adam\n",
      "Activation Function: relu\n",
      "Number of Layers: 7\n",
      "Nodes per Layer: 112\n"
     ]
    }
   ],
   "source": [
    "best_hps = tuner_search.get_best_hyperparameters(num_trials=1)[0]\n",
    "\n",
    "# Print the best hyperparameters\n",
    "print(\"Best Hyperparameters:\")\n",
    "print(f\"Optimizer: {best_hps.get('optimizer')}\")\n",
    "print(f\"Activation Function: {best_hps.get('activation0')}\")  # Assuming you want the activation function of the first layer\n",
    "print(f\"Number of Layers: {best_hps.get('num_layers')}\")\n",
    "print(f\"Nodes per Layer: {best_hps.get('units0')}\")\n"
   ]
  },
  {
   "cell_type": "code",
   "execution_count": 29,
   "id": "214b5acd",
   "metadata": {},
   "outputs": [
    {
     "name": "stdout",
     "output_type": "stream",
     "text": [
      "Epoch 1/2\n",
      "519/519 [==============================] - 1577s 3s/step - loss: 99.9214 - mae: 7.4377 - val_loss: 159.5886 - val_mae: 8.9855\n",
      "Epoch 2/2\n",
      "519/519 [==============================] - 1642s 3s/step - loss: 83.8375 - mae: 6.8487 - val_loss: 255.2205 - val_mae: 10.2393\n",
      "Results saved to hyperparameter_results.json\n"
     ]
    }
   ],
   "source": [
    "model_age = tuner_search.get_best_models(num_models=1)[0]\n",
    "\n",
    "Image_age = model_age.fit(train_generator_age, epochs=2, validation_data=test_generator_age)\n",
    "\n",
    "\n",
    "\n",
    "\n",
    "import json\n",
    "\n",
    "best_hyperparameters_age = best_hps.get_config()\n",
    "\n",
    "training_loss = Image_age.history['loss']\n",
    "training_mae = Image_age.history['mae']\n",
    "validation_loss = Image_age.history['val_loss']\n",
    "validation_mae = Image_age.history['val_mae']\n",
    "\n",
    "# Create a dictionary to store the results\n",
    "results = {\n",
    "    'best_hyperparameters': best_hyperparameters_age,\n",
    "    'training_loss': training_loss,\n",
    "    'training_mae': training_mae,\n",
    "    'validation_loss': validation_loss,\n",
    "    'validation_mae': validation_mae\n",
    "}\n",
    "\n",
    "# Specify the filename where you want to save the results\n",
    "json_filename_age = 'hyperparameter_results.json'\n",
    "\n",
    "# Save the results to the JSON file\n",
    "with open(json_filename_age, 'w') as json_file:\n",
    "    json.dump(results, json_file, indent=4)\n",
    "\n",
    "print(f'Results saved to {json_filename_age}')"
   ]
  },
  {
   "cell_type": "markdown",
   "id": "2bc1293e",
   "metadata": {},
   "source": [
    "### 2c. Prediction"
   ]
  },
  {
   "cell_type": "code",
   "execution_count": 31,
   "id": "d0c88b2c",
   "metadata": {},
   "outputs": [
    {
     "name": "stdout",
     "output_type": "stream",
     "text": [
      "223/223 [==============================] - 111s 498ms/step - loss: 408.8711 - mae: 16.4835\n"
     ]
    },
    {
     "data": {
      "text/plain": [
       "[408.87109375, 16.483495712280273]"
      ]
     },
     "execution_count": 31,
     "metadata": {},
     "output_type": "execute_result"
    }
   ],
   "source": [
    "model_age.evaluate(X_test_age,y_test_age)"
   ]
  },
  {
   "cell_type": "code",
   "execution_count": 36,
   "id": "5a74d1d2",
   "metadata": {},
   "outputs": [
    {
     "data": {
      "text/plain": [
       "17814    49\n",
       "15080    39\n",
       "22829     8\n",
       "16074    40\n",
       "8972     27\n",
       "         ..\n",
       "11153    30\n",
       "953       1\n",
       "6045     25\n",
       "13369    35\n",
       "12841    34\n",
       "Name: age, Length: 7112, dtype: int64"
      ]
     },
     "execution_count": 36,
     "metadata": {},
     "output_type": "execute_result"
    }
   ],
   "source": [
    "y_test_age"
   ]
  },
  {
   "cell_type": "code",
   "execution_count": 34,
   "id": "bcee718d",
   "metadata": {},
   "outputs": [
    {
     "name": "stdout",
     "output_type": "stream",
     "text": [
      "223/223 [==============================] - 104s 466ms/step\n"
     ]
    }
   ],
   "source": [
    "age_predict = model_age.predict(X_test_age)"
   ]
  },
  {
   "cell_type": "code",
   "execution_count": 35,
   "id": "73ddb335",
   "metadata": {},
   "outputs": [
    {
     "data": {
      "text/plain": [
       "array([[45.558674],\n",
       "       [61.62584 ],\n",
       "       [34.14882 ],\n",
       "       ...,\n",
       "       [53.613686],\n",
       "       [52.193962],\n",
       "       [40.86253 ]], dtype=float32)"
      ]
     },
     "execution_count": 35,
     "metadata": {},
     "output_type": "execute_result"
    }
   ],
   "source": [
    "age_predict"
   ]
  },
  {
   "cell_type": "code",
   "execution_count": 99,
   "id": "9498e83d",
   "metadata": {},
   "outputs": [
    {
     "data": {
      "image/png": "[encoded data removed]",
      "text/plain": [
       "<Figure size 500x500 with 1 Axes>"
      ]
     },
     "metadata": {},
     "output_type": "display_data"
    }
   ],
   "source": [
    "plt.figure(figsize=(5,5))  \n",
    "\n",
    "plt.scatter(y_test_age, age_predict, label=\"Face Age\", s=2)  \n",
    "plt.title('Actual Age and Predicted Age')\n",
    "\n",
    "plt.xlabel('y_test_age')   \n",
    "plt.ylabel('age_predict')\n",
    "\n",
    "plt.legend()\n",
    "plt.show()"
   ]
  },
  {
   "cell_type": "code",
   "execution_count": 103,
   "id": "31496949",
   "metadata": {},
   "outputs": [],
   "source": [
    "import json\n",
    "\n",
    "project_data_Image_Age_Prediction = {\n",
    "    \n",
    "    \"model_info\": {\n",
    "        \"model_name\": \"CNN Model\",\n",
    "        \"model_description\": \"Convolutional neural network with multiple layers\",\n",
    "        \"model_training\": \"Optimizer: Adam, Learning rate: 0.001, Activation Function: relu, Number of Layers: 7,Nodes per Layer: 112, Batch size: 32, Epochs: 2\",\n",
    "        \"model_validation_data\": \"mae: 6.85, Loss: 83.84, Val_mae: 10, val_loss: 255\",\n",
    "        \"model_evaluation\": \"mae: 16.48, Loss: 409\"\n",
    "    },\n",
    "    \"hyperparameters\": {\n",
    "        \"learning_rate\": 0.001,\n",
    "        \"batch_size\": 32,\n",
    "        \"num_epochs\": 2,\n",
    "        \n",
    "   \n",
    "    }\n",
    "}\n",
    "\n",
    "# Save the project data to a JSON file\n",
    "with open('project_data_Image_Age_Prediction.json', 'w') as json_file:\n",
    "    json.dump(project_data_Image_Age_Prediction, json_file, indent=4)\n"
   ]
  },
  {
   "cell_type": "markdown",
   "id": "e0285e32",
   "metadata": {},
   "source": [
    "# 3. Ethnicity"
   ]
  },
  {
   "cell_type": "markdown",
   "id": "d644d0d5",
   "metadata": {},
   "source": [
    "### 3a. Train and Test split"
   ]
  },
  {
   "cell_type": "code",
   "execution_count": 300,
   "id": "a785c55e",
   "metadata": {},
   "outputs": [],
   "source": [
    "# separate dataset into train and test for age, gender,ethinicity\n",
    "from sklearn.model_selection import train_test_split\n",
    "\n",
    "X_train_ethnicity, X_test_ethnicity, y_train_ethnicity, y_test_ethnicity = train_test_split(X, ethnicity_encoded, test_size=0.3, random_state=42)\n",
    "\n",
    "train_generator_ethnicity=train_datagen.flow(X_train_ethnicity ,y_train_ethnicity ,batch_size=32)\n",
    "test_generator_ethnicity=test_datagen.flow(X_test_ethnicity ,y_test_ethnicity ,batch_size=32)"
   ]
  },
  {
   "cell_type": "code",
   "execution_count": 301,
   "id": "306f426e",
   "metadata": {},
   "outputs": [
    {
     "data": {
      "text/plain": [
       "((16593, 48, 48, 1), (7112, 5))"
      ]
     },
     "execution_count": 301,
     "metadata": {},
     "output_type": "execute_result"
    }
   ],
   "source": [
    "X_train_ethnicity.shape,y_test_ethnicity.shape"
   ]
  },
  {
   "cell_type": "code",
   "execution_count": 302,
   "id": "cf117336",
   "metadata": {},
   "outputs": [
    {
     "data": {
      "text/plain": [
       "array([[0., 1., 0., 0., 0.],\n",
       "       [0., 1., 0., 0., 0.],\n",
       "       [0., 0., 0., 0., 1.],\n",
       "       ...,\n",
       "       [0., 0., 1., 0., 0.],\n",
       "       [0., 1., 0., 0., 0.],\n",
       "       [1., 0., 0., 0., 0.]])"
      ]
     },
     "execution_count": 302,
     "metadata": {},
     "output_type": "execute_result"
    }
   ],
   "source": [
    "y_test_ethnicity"
   ]
  },
  {
   "cell_type": "code",
   "execution_count": 303,
   "id": "12997973",
   "metadata": {},
   "outputs": [
    {
     "data": {
      "text/plain": [
       "dtype('float64')"
      ]
     },
     "execution_count": 303,
     "metadata": {},
     "output_type": "execute_result"
    }
   ],
   "source": [
    "y_test_ethnicity.dtype"
   ]
  },
  {
   "cell_type": "markdown",
   "id": "140eafea",
   "metadata": {},
   "source": [
    "### 3b. CNN Modeling"
   ]
  },
  {
   "cell_type": "code",
   "execution_count": 312,
   "id": "a3f31a68",
   "metadata": {},
   "outputs": [],
   "source": [
    "def build_model_ethnicity(hp):\n",
    "    cnn = models.Sequential()\n",
    "\n",
    "    for i in range(hp.Int('num_layers', min_value=1, max_value=10)):\n",
    "        if i == 0:\n",
    "            cnn.add(\n",
    "                layers.Conv2D(\n",
    "                    hp.Int('units' + str(i), min_value=8, max_value=128, step=8),\n",
    "                    kernel_size=(3, 3),\n",
    "                    activation=hp.Choice('activation' + str(i), values=['relu', 'tanh', 'sigmoid', 'softmax']),\n",
    "                    padding='same',\n",
    "                    input_shape=(48, 48, 1)))  # Set input_shape for the first layer\n",
    "        else:\n",
    "            cnn.add(\n",
    "                layers.Conv2D(\n",
    "                    hp.Int('units' + str(i), min_value=8, max_value=128, step=8),\n",
    "                    kernel_size=(3, 3),\n",
    "                    activation=hp.Choice('activation' + str(i), values=['relu', 'tanh', 'sigmoid', 'softmax']),\n",
    "                    padding='same'))\n",
    "        cnn.add(layers.BatchNormalization())\n",
    "        cnn.add(layers.MaxPooling2D((1, 1)))\n",
    "        cnn.add(layers.Dropout(0.2))\n",
    "\n",
    "    # Flatten and add dense layers\n",
    "    flatten_size = hp.Int('flatten_size', min_value=8, max_value=128, step=8)\n",
    "    cnn.add(layers.Flatten())\n",
    "\n",
    "    cnn.add(layers.Dense(64, activation='relu'))\n",
    "    cnn.add(layers.Dense(5, activation='softmax'))\n",
    "\n",
    "    # Compile the model\n",
    "    cnn.compile(optimizer=hp.Choice('optimizer', values=['adam', 'sgd', 'rmsprop', 'adadelta']),\n",
    "                loss='categorical_crossentropy',\n",
    "                metrics=['accuracy'])\n",
    "\n",
    "    return cnn\n"
   ]
  },
  {
   "cell_type": "code",
   "execution_count": 314,
   "id": "da761d96",
   "metadata": {},
   "outputs": [
    {
     "name": "stdout",
     "output_type": "stream",
     "text": [
      "Trial 5 Complete [00h 37m 12s]\n",
      "val_accuracy: 0.7362204790115356\n",
      "\n",
      "Best val_accuracy So Far: 0.753796398639679\n",
      "Total elapsed time: 02h 26m 21s\n"
     ]
    }
   ],
   "source": [
    "tuner_search_ethnicity = kt.RandomSearch(build_model_ethnicity, objective='val_accuracy', max_trials=5, directory='output', project_name='Image_detection_ethnicity_5')\n",
    "tuner_search_ethnicity.search(train_generator_ethnicity, epochs=2, validation_data=test_generator_ethnicity, callbacks=[tf.keras.callbacks.EarlyStopping(monitor='val_accuracy', patience=3)])"
   ]
  },
  {
   "cell_type": "code",
   "execution_count": 315,
   "id": "a89a7e08",
   "metadata": {},
   "outputs": [
    {
     "name": "stdout",
     "output_type": "stream",
     "text": [
      "Best Hyperparameters:\n",
      "Optimizer: adam\n",
      "Activation Function: relu\n",
      "Number of Layers: 7\n",
      "Nodes per Layer: 112\n"
     ]
    }
   ],
   "source": [
    "best_hps_ethnicity = tuner_search_ethnicity.get_best_hyperparameters(num_trials=1)[0]\n",
    "\n",
    "# Print the best hyperparameters\n",
    "print(\"Best Hyperparameters:\")\n",
    "print(f\"Optimizer: {best_hps.get('optimizer')}\")\n",
    "print(f\"Activation Function: {best_hps.get('activation0')}\") \n",
    "print(f\"Number of Layers: {best_hps.get('num_layers')}\")\n",
    "print(f\"Nodes per Layer: {best_hps.get('units0')}\")"
   ]
  },
  {
   "cell_type": "code",
   "execution_count": 316,
   "id": "2e44089b",
   "metadata": {},
   "outputs": [
    {
     "name": "stdout",
     "output_type": "stream",
     "text": [
      "Epoch 1/2\n",
      "519/519 [==============================] - 628s 1s/step - loss: 0.6775 - accuracy: 0.7616 - val_loss: 0.7437 - val_accuracy: 0.7499\n",
      "Epoch 2/2\n",
      "519/519 [==============================] - 632s 1s/step - loss: 0.6102 - accuracy: 0.7852 - val_loss: 0.6982 - val_accuracy: 0.7622\n",
      "Results saved to hyperparameter_results_ethnicity.json\n"
     ]
    }
   ],
   "source": [
    "model_ethnicity = tuner_search_ethnicity.get_best_models(num_models=1)[0]\n",
    "\n",
    "Image_ethnicity = model_ethnicity.fit(train_generator_ethnicity, epochs=2, validation_data=test_generator_ethnicity)\n",
    "\n",
    "\n",
    "\n",
    "best_hyperparameters_ethnicity = best_hps_ethnicity.get_config()\n",
    "\n",
    "training_loss = Image_ethnicity.history['loss']\n",
    "training_accuracy = Image_ethnicity.history['accuracy']\n",
    "validation_loss = Image_ethnicity.history['val_loss']\n",
    "validation_accuracy = Image_ethnicity.history['val_accuracy']\n",
    "\n",
    "# Create a dictionary to store the results\n",
    "results = {\n",
    "    'best_hyperparameters': best_hyperparameters_ethnicity,\n",
    "    'training_loss': training_loss,\n",
    "    'training_accuracy': training_accuracy,\n",
    "    'validation_loss': validation_loss,\n",
    "    'validation_accuracy': validation_accuracy\n",
    "}\n",
    "\n",
    "# Specify the filename where you want to save the results\n",
    "json_filename_ethnicity = 'hyperparameter_results_ethnicity.json'\n",
    "\n",
    "# Save the results to the JSON file\n",
    "with open(json_filename_ethnicity, 'w') as json_file:\n",
    "    json.dump(results, json_file, indent=4)\n",
    "\n",
    "print(f'Results saved to {json_filename_ethnicity}')"
   ]
  },
  {
   "cell_type": "code",
   "execution_count": 317,
   "id": "e8fa1844",
   "metadata": {},
   "outputs": [
    {
     "name": "stdout",
     "output_type": "stream",
     "text": [
      "Model: \"sequential\"\n",
      "_________________________________________________________________\n",
      " Layer (type)                Output Shape              Param #   \n",
      "=================================================================\n",
      " conv2d (Conv2D)             (None, 48, 48, 88)        880       \n",
      "                                                                 \n",
      " batch_normalization (Batch  (None, 48, 48, 88)        352       \n",
      " Normalization)                                                  \n",
      "                                                                 \n",
      " max_pooling2d (MaxPooling2  (None, 48, 48, 88)        0         \n",
      " D)                                                              \n",
      "                                                                 \n",
      " dropout (Dropout)           (None, 48, 48, 88)        0         \n",
      "                                                                 \n",
      " conv2d_1 (Conv2D)           (None, 48, 48, 24)        19032     \n",
      "                                                                 \n",
      " batch_normalization_1 (Bat  (None, 48, 48, 24)        96        \n",
      " chNormalization)                                                \n",
      "                                                                 \n",
      " max_pooling2d_1 (MaxPoolin  (None, 48, 48, 24)        0         \n",
      " g2D)                                                            \n",
      "                                                                 \n",
      " dropout_1 (Dropout)         (None, 48, 48, 24)        0         \n",
      "                                                                 \n",
      " conv2d_2 (Conv2D)           (None, 48, 48, 72)        15624     \n",
      "                                                                 \n",
      " batch_normalization_2 (Bat  (None, 48, 48, 72)        288       \n",
      " chNormalization)                                                \n",
      "                                                                 \n",
      " max_pooling2d_2 (MaxPoolin  (None, 48, 48, 72)        0         \n",
      " g2D)                                                            \n",
      "                                                                 \n",
      " dropout_2 (Dropout)         (None, 48, 48, 72)        0         \n",
      "                                                                 \n",
      " conv2d_3 (Conv2D)           (None, 48, 48, 8)         5192      \n",
      "                                                                 \n",
      " batch_normalization_3 (Bat  (None, 48, 48, 8)         32        \n",
      " chNormalization)                                                \n",
      "                                                                 \n",
      " max_pooling2d_3 (MaxPoolin  (None, 48, 48, 8)         0         \n",
      " g2D)                                                            \n",
      "                                                                 \n",
      " dropout_3 (Dropout)         (None, 48, 48, 8)         0         \n",
      "                                                                 \n",
      " conv2d_4 (Conv2D)           (None, 48, 48, 8)         584       \n",
      "                                                                 \n",
      " batch_normalization_4 (Bat  (None, 48, 48, 8)         32        \n",
      " chNormalization)                                                \n",
      "                                                                 \n",
      " max_pooling2d_4 (MaxPoolin  (None, 48, 48, 8)         0         \n",
      " g2D)                                                            \n",
      "                                                                 \n",
      " dropout_4 (Dropout)         (None, 48, 48, 8)         0         \n",
      "                                                                 \n",
      " conv2d_5 (Conv2D)           (None, 48, 48, 8)         584       \n",
      "                                                                 \n",
      " batch_normalization_5 (Bat  (None, 48, 48, 8)         32        \n",
      " chNormalization)                                                \n",
      "                                                                 \n",
      " max_pooling2d_5 (MaxPoolin  (None, 48, 48, 8)         0         \n",
      " g2D)                                                            \n",
      "                                                                 \n",
      " dropout_5 (Dropout)         (None, 48, 48, 8)         0         \n",
      "                                                                 \n",
      " conv2d_6 (Conv2D)           (None, 48, 48, 8)         584       \n",
      "                                                                 \n",
      " batch_normalization_6 (Bat  (None, 48, 48, 8)         32        \n",
      " chNormalization)                                                \n",
      "                                                                 \n",
      " max_pooling2d_6 (MaxPoolin  (None, 48, 48, 8)         0         \n",
      " g2D)                                                            \n",
      "                                                                 \n",
      " dropout_6 (Dropout)         (None, 48, 48, 8)         0         \n",
      "                                                                 \n",
      " flatten (Flatten)           (None, 18432)             0         \n",
      "                                                                 \n",
      " dense (Dense)               (None, 64)                1179712   \n",
      "                                                                 \n",
      " dense_1 (Dense)             (None, 5)                 325       \n",
      "                                                                 \n",
      "=================================================================\n",
      "Total params: 1223381 (4.67 MB)\n",
      "Trainable params: 1222949 (4.67 MB)\n",
      "Non-trainable params: 432 (1.69 KB)\n",
      "_________________________________________________________________\n",
      "None\n"
     ]
    }
   ],
   "source": [
    "print(model_ethnicity.summary())"
   ]
  },
  {
   "cell_type": "markdown",
   "id": "f37079b7",
   "metadata": {},
   "source": [
    "### 3c. Prediction"
   ]
  },
  {
   "cell_type": "code",
   "execution_count": 318,
   "id": "3447468a",
   "metadata": {},
   "outputs": [
    {
     "data": {
      "text/plain": [
       "((7112, 48, 48, 1), (7112, 5))"
      ]
     },
     "execution_count": 318,
     "metadata": {},
     "output_type": "execute_result"
    }
   ],
   "source": [
    "X_test_ethnicity.shape,y_test_ethnicity.shape"
   ]
  },
  {
   "cell_type": "code",
   "execution_count": 319,
   "id": "d320be1f",
   "metadata": {},
   "outputs": [
    {
     "name": "stdout",
     "output_type": "stream",
     "text": [
      "223/223 [==============================] - 40s 182ms/step - loss: 1.2471 - accuracy: 0.5951\n"
     ]
    },
    {
     "data": {
      "text/plain": [
       "[1.2470964193344116, 0.5950506329536438]"
      ]
     },
     "execution_count": 319,
     "metadata": {},
     "output_type": "execute_result"
    }
   ],
   "source": [
    "model_ethnicity.evaluate(X_test_ethnicity,y_test_ethnicity)"
   ]
  },
  {
   "cell_type": "code",
   "execution_count": 320,
   "id": "e814dac3",
   "metadata": {},
   "outputs": [
    {
     "name": "stdout",
     "output_type": "stream",
     "text": [
      "223/223 [==============================] - 40s 178ms/step\n"
     ]
    }
   ],
   "source": [
    "ethnicity_prediction = model_ethnicity.predict(X_test_ethnicity)"
   ]
  },
  {
   "cell_type": "code",
   "execution_count": 324,
   "id": "bf5b5eb5",
   "metadata": {},
   "outputs": [
    {
     "data": {
      "text/plain": [
       "array([0.6140759 , 0.00942859, 0.07054499, ..., 0.0153808 , 0.02777229,\n",
       "       0.06210376], dtype=float32)"
      ]
     },
     "execution_count": 324,
     "metadata": {},
     "output_type": "execute_result"
    }
   ],
   "source": [
    "E=ethnicity_prediction.flatten()\n",
    "E"
   ]
  },
  {
   "cell_type": "code",
   "execution_count": 325,
   "id": "b4661e7f",
   "metadata": {},
   "outputs": [
    {
     "data": {
      "text/plain": [
       "(35560,)"
      ]
     },
     "execution_count": 325,
     "metadata": {},
     "output_type": "execute_result"
    }
   ],
   "source": [
    "E.shape"
   ]
  },
  {
   "cell_type": "code",
   "execution_count": 326,
   "id": "91f19ea3",
   "metadata": {},
   "outputs": [
    {
     "data": {
      "text/plain": [
       "(7112, 5)"
      ]
     },
     "execution_count": 326,
     "metadata": {},
     "output_type": "execute_result"
    }
   ],
   "source": [
    "ethnicity_prediction.shape"
   ]
  },
  {
   "cell_type": "code",
   "execution_count": 327,
   "id": "1592ffe1",
   "metadata": {},
   "outputs": [
    {
     "data": {
      "text/plain": [
       "array([ True, False, False, ..., False, False, False])"
      ]
     },
     "execution_count": 327,
     "metadata": {},
     "output_type": "execute_result"
    }
   ],
   "source": [
    "E_=(E>0.5)\n",
    "E_"
   ]
  },
  {
   "cell_type": "code",
   "execution_count": 328,
   "id": "c44ce085",
   "metadata": {},
   "outputs": [],
   "source": [
    "ethnicity_prediction=np.zeros((len(E)))\n",
    "for i in range(len(E_)):\n",
    "    if E_[i] ==False:\n",
    "               ethnicity_prediction[i]=0\n",
    "    else:\n",
    "               ethnicity_prediction[i]=1"
   ]
  },
  {
   "cell_type": "code",
   "execution_count": 329,
   "id": "ce2957ba",
   "metadata": {},
   "outputs": [
    {
     "data": {
      "text/plain": [
       "array([[1., 0., 0., 0., 0.],\n",
       "       [0., 1., 0., 0., 0.],\n",
       "       [1., 0., 0., 0., 0.],\n",
       "       ...,\n",
       "       [0., 0., 1., 0., 0.],\n",
       "       [0., 0., 1., 0., 0.],\n",
       "       [1., 0., 0., 0., 0.]])"
      ]
     },
     "execution_count": 329,
     "metadata": {},
     "output_type": "execute_result"
    }
   ],
   "source": [
    "ethnic_predicted=ethnicity_prediction.reshape(7112, 5)\n",
    "ethnic_predicted"
   ]
  },
  {
   "cell_type": "code",
   "execution_count": 330,
   "id": "3d7d2cb7",
   "metadata": {},
   "outputs": [
    {
     "data": {
      "text/plain": [
       "array([[0., 1., 0., 0., 0.],\n",
       "       [0., 1., 0., 0., 0.],\n",
       "       [0., 0., 0., 0., 1.],\n",
       "       ...,\n",
       "       [0., 0., 1., 0., 0.],\n",
       "       [0., 1., 0., 0., 0.],\n",
       "       [1., 0., 0., 0., 0.]])"
      ]
     },
     "execution_count": 330,
     "metadata": {},
     "output_type": "execute_result"
    }
   ],
   "source": [
    "y_test_ethnicity"
   ]
  },
  {
   "cell_type": "code",
   "execution_count": 331,
   "id": "53f8fce7",
   "metadata": {},
   "outputs": [
    {
     "data": {
      "text/plain": [
       "array([1., 1., 4., ..., 2., 1., 0.])"
      ]
     },
     "execution_count": 331,
     "metadata": {},
     "output_type": "execute_result"
    }
   ],
   "source": [
    "y_ethnicity=np.zeros((len(y_test_ethnicity)))\n",
    "for i in range(len(y_test_ethnicity)):\n",
    "    y_ethnicity[i]=np.argmax(y_test_ethnicity[i])\n",
    "\n",
    "y_ethnicity"
   ]
  },
  {
   "cell_type": "code",
   "execution_count": 332,
   "id": "d90b09d5",
   "metadata": {},
   "outputs": [
    {
     "data": {
      "text/plain": [
       "array([[1.],\n",
       "       [1.],\n",
       "       [4.],\n",
       "       ...,\n",
       "       [2.],\n",
       "       [1.],\n",
       "       [0.]])"
      ]
     },
     "execution_count": 332,
     "metadata": {},
     "output_type": "execute_result"
    }
   ],
   "source": [
    "y_ethnicity=y_ethnicity.reshape(len(y_test_ethnicity),1)\n",
    "y_ethnicity"
   ]
  },
  {
   "cell_type": "code",
   "execution_count": 333,
   "id": "acc576b5",
   "metadata": {},
   "outputs": [
    {
     "data": {
      "text/plain": [
       "array([0., 1., 0., ..., 2., 2., 0.])"
      ]
     },
     "execution_count": 333,
     "metadata": {},
     "output_type": "execute_result"
    }
   ],
   "source": [
    "#reversing hot endcoding for y_predict\n",
    "ethnicity_y_predicted=np.zeros((len(ethnic_predicted)))\n",
    "for i in range(len(ethnic_predicted)):\n",
    "    ethnicity_y_predicted[i]=np.argmax(ethnic_predicted[i])\n",
    "\n",
    "ethnicity_y_predicted"
   ]
  },
  {
   "cell_type": "code",
   "execution_count": 334,
   "id": "e354decd",
   "metadata": {},
   "outputs": [
    {
     "data": {
      "text/plain": [
       "array([[0.],\n",
       "       [1.],\n",
       "       [0.],\n",
       "       ...,\n",
       "       [2.],\n",
       "       [2.],\n",
       "       [0.]])"
      ]
     },
     "execution_count": 334,
     "metadata": {},
     "output_type": "execute_result"
    }
   ],
   "source": [
    "ethnicity_y_predicted=ethnicity_y_predicted.reshape(len(ethnic_predicted),1)\n",
    "ethnicity_y_predicted"
   ]
  },
  {
   "cell_type": "code",
   "execution_count": 335,
   "id": "b8cc83ac",
   "metadata": {},
   "outputs": [
    {
     "name": "stdout",
     "output_type": "stream",
     "text": [
      "[[0. 1.]\n",
      " [1. 1.]\n",
      " [0. 4.]\n",
      " ...\n",
      " [2. 2.]\n",
      " [2. 1.]\n",
      " [0. 0.]]\n"
     ]
    }
   ],
   "source": [
    "print(np.concatenate((ethnicity_y_predicted.reshape(len(ethnicity_y_predicted),1),y_ethnicity.reshape(len(y_ethnicity),1)),1))"
   ]
  },
  {
   "cell_type": "code",
   "execution_count": 336,
   "id": "d0f1d006",
   "metadata": {},
   "outputs": [
    {
     "name": "stdout",
     "output_type": "stream",
     "text": [
      "[[2512    7  400  152    0]\n",
      " [ 762  298  113  172    1]\n",
      " [ 178    0  830   13    0]\n",
      " [ 550    1  115  504    0]\n",
      " [ 358    1   92   53    0]]\n"
     ]
    },
    {
     "data": {
      "text/plain": [
       "0.5826771653543307"
      ]
     },
     "execution_count": 336,
     "metadata": {},
     "output_type": "execute_result"
    }
   ],
   "source": [
    "from sklearn.metrics import confusion_matrix, accuracy_score\n",
    "cm=confusion_matrix(y_ethnicity,ethnicity_y_predicted)\n",
    "print(cm)\n",
    "accuracy_score(y_ethnicity,ethnicity_y_predicted)"
   ]
  },
  {
   "cell_type": "code",
   "execution_count": 337,
   "id": "7db82237",
   "metadata": {},
   "outputs": [],
   "source": [
    "import json\n",
    "\n",
    "project_data_Image_ethnicity_Prediction = {\n",
    "    \n",
    "    \"model_info\": {\n",
    "        \"model_name\": \"CNN Model\",\n",
    "        \"model_description\": \"Convolutional neural network with multiple layers\",\n",
    "        \"model_training\": \"Optimizer: Adam, Learning rate: 0.001, Activation Function: relu, Number of Layers: 7,Nodes per Layer: 112, Batch size: 32, Epochs: 2\",\n",
    "        \"model_evaluation\": \"Accuracy: 76%, Loss: 0.68, Val_accuracy: 75%, val_loss: 0.74\" \n",
    "    },\n",
    "    \"hyperparameters\": {\n",
    "        \"learning_rate\": 0.001,\n",
    "        \"batch_size\": 32,\n",
    "        \"num_epochs\": 2,\n",
    "        \n",
    "    },\n",
    "    \"results\": {\n",
    "        \"result_1\": \"Achieved 59% accuracy on the evaluation of test set.\",\n",
    "        \"result_2\": \"Accuracy Score is 58%.\",\n",
    "        \"Confusion Matrix\": \"[[2512    7  400  152    0], [ 762  298  113  172    1], [ 178    0  830   13    0], [ 550    1  115  504    0], [ 358    1   92   53    0]]\"\n",
    "                        \n",
    "   \n",
    "    }\n",
    "}\n",
    "\n",
    "# Save the project data to a JSON file\n",
    "with open('project_data_Image_ethnicity_Prediction.json', 'w') as json_file:\n",
    "    json.dump(project_data_Image_ethnicity_Prediction, json_file, indent=4)\n"
   ]
  },
  {
   "cell_type": "code",
   "execution_count": null,
   "id": "e20600c1",
   "metadata": {},
   "outputs": [],
   "source": []
  }
 ],
 "metadata": {
  "kernelspec": {
   "display_name": "Python 3 (ipykernel)",
   "language": "python",
   "name": "python3"
  },
  "language_info": {
   "codemirror_mode": {
    "name": "ipython",
    "version": 3
   },
   "file_extension": ".py",
   "mimetype": "text/x-python",
   "name": "python",
   "nbconvert_exporter": "python",
   "pygments_lexer": "ipython3",
   "version": "3.11.4"
  }
 },
 "nbformat": 4,
 "nbformat_minor": 5
}
